{
 "cells": [
  {
   "cell_type": "markdown",
   "id": "c3b8358d",
   "metadata": {},
   "source": [
    "1. What exactly is []?\n",
    "\n",
    "Answer:\n",
    "\n",
    "[] is an empty list.\n",
    "\n",
    "In python list is created by placing elements inside square brackets [], seperated by commas.\n",
    "\n",
    "A list can have any number of items and they may be different data types"
   ]
  },
  {
   "cell_type": "markdown",
   "id": "7073180e",
   "metadata": {},
   "source": [
    "2. In a list of values stored in a variable called spam, how would you assign the value 'hello' as the third value? (Assume [2, 4, 6, 8, 10] are in spam.)\n",
    "\n",
    "Answer :\n",
    "\n",
    "By Assumption list called spam = [2,4,6,8,10] having variables [2,4,6,8,10]\n",
    "\n",
    "list index start with 0,1,2,.....etc .\n",
    "\n",
    "Here spam[0] = 2, spam[1] = 4, spam[2] = 6, spam[3] = 8, spam[4] = 10\n",
    "\n",
    "we can change the list value by using index spam[2] == 'hello'"
   ]
  },
  {
   "cell_type": "code",
   "execution_count": 1,
   "id": "48ef44e8",
   "metadata": {},
   "outputs": [
    {
     "name": "stdout",
     "output_type": "stream",
     "text": [
      "[2, 4, 'hello', 8, 10]\n"
     ]
    }
   ],
   "source": [
    "spam = [2,4,6,8,10]\n",
    "spam[2] = \"hello\"\n",
    "print(spam)"
   ]
  },
  {
   "cell_type": "markdown",
   "id": "55e68290",
   "metadata": {},
   "source": [
    "3. What is the value of spam[int(int('3' * 2) / 11)]?"
   ]
  },
  {
   "cell_type": "code",
   "execution_count": 5,
   "id": "114f567e",
   "metadata": {},
   "outputs": [
    {
     "data": {
      "text/plain": [
       "'d'"
      ]
     },
     "execution_count": 5,
     "metadata": {},
     "output_type": "execute_result"
    }
   ],
   "source": [
    "##Answer\n",
    "spam = ['a','b','c','d','e']\n",
    "spam[int(int('3'*2)/11)]"
   ]
  },
  {
   "cell_type": "markdown",
   "id": "ade91e6d",
   "metadata": {},
   "source": [
    "4. What is the value of spam[-1]?"
   ]
  },
  {
   "cell_type": "code",
   "execution_count": 7,
   "id": "c2dc079f",
   "metadata": {},
   "outputs": [
    {
     "data": {
      "text/plain": [
       "'e'"
      ]
     },
     "execution_count": 7,
     "metadata": {},
     "output_type": "execute_result"
    }
   ],
   "source": [
    "##Answer\n",
    "spam = ['a','b','c','d','e']\n",
    "spam[-1]"
   ]
  },
  {
   "cell_type": "markdown",
   "id": "8b94d87d",
   "metadata": {},
   "source": [
    "5. What is the value of spam[:2]?\n"
   ]
  },
  {
   "cell_type": "code",
   "execution_count": 9,
   "id": "352bd569",
   "metadata": {},
   "outputs": [
    {
     "data": {
      "text/plain": [
       "['a', 'b']"
      ]
     },
     "execution_count": 9,
     "metadata": {},
     "output_type": "execute_result"
    }
   ],
   "source": [
    "##Answer\n",
    "spam = ['a','b','c','d','e']\n",
    "spam[:2]"
   ]
  },
  {
   "cell_type": "markdown",
   "id": "6ae78ba1",
   "metadata": {},
   "source": [
    " Let's pretend bacon has the list [3.14, 'cat,' 11, 'cat,' True] for the next three questions.\n"
   ]
  },
  {
   "cell_type": "markdown",
   "id": "3f2ae127",
   "metadata": {},
   "source": [
    "6. What is the value of bacon.index('cat')?"
   ]
  },
  {
   "cell_type": "code",
   "execution_count": 10,
   "id": "624df967",
   "metadata": {},
   "outputs": [
    {
     "data": {
      "text/plain": [
       "1"
      ]
     },
     "execution_count": 10,
     "metadata": {},
     "output_type": "execute_result"
    }
   ],
   "source": [
    "##Answer\n",
    "bacon = [3.14,'cat',11,'cat',True]\n",
    "bacon.index('cat')"
   ]
  },
  {
   "cell_type": "markdown",
   "id": "3d1e373c",
   "metadata": {},
   "source": [
    "7. How does bacon.append(99) change the look of the list value in bacon?"
   ]
  },
  {
   "cell_type": "code",
   "execution_count": 11,
   "id": "572ee770",
   "metadata": {},
   "outputs": [
    {
     "name": "stdout",
     "output_type": "stream",
     "text": [
      "[3.14, 'cat', 11, 'cat', True, 99]\n"
     ]
    }
   ],
   "source": [
    "bacon = [3.14,'cat',11,'cat',True]\n",
    "bacon.append(99)\n",
    "print(bacon)"
   ]
  },
  {
   "cell_type": "markdown",
   "id": "5c580521",
   "metadata": {},
   "source": [
    "8. How does bacon.remove('cat') change the look of the list in bacon?"
   ]
  },
  {
   "cell_type": "code",
   "execution_count": 12,
   "id": "14d10f51",
   "metadata": {},
   "outputs": [
    {
     "name": "stdout",
     "output_type": "stream",
     "text": [
      "[3.14, 11, 'cat', True]\n"
     ]
    }
   ],
   "source": [
    "##Answer\n",
    "bacon = [3.14,'cat',11,'cat',True]\n",
    "bacon.remove('cat')\n",
    "print(bacon)"
   ]
  },
  {
   "cell_type": "markdown",
   "id": "20452784",
   "metadata": {},
   "source": [
    "9. What are the list concatenation and list replication operators?"
   ]
  },
  {
   "cell_type": "markdown",
   "id": "2721809f",
   "metadata": {},
   "source": [
    "Answer :\n",
    "\n",
    "    The operator for list concatenation is '+' while the operator for list replication is '*'."
   ]
  },
  {
   "cell_type": "markdown",
   "id": "3228562a",
   "metadata": {},
   "source": [
    "10. What is difference between the list methods append() and insert()?\n",
    "\n",
    "Answer:\n",
    "    The only difference between insert() and append() is that insert() function allows us to add a specific value at any specified index of the list unlike append() function where append() function can only add elements at the end of the list."
   ]
  },
  {
   "cell_type": "markdown",
   "id": "82673eec",
   "metadata": {},
   "source": [
    "11. What are the two methods for removing items from a list?\n",
    "\n",
    "Answer :\n",
    "\n",
    "  By using remove() method.\n",
    "    By using pop() method"
   ]
  },
  {
   "cell_type": "code",
   "execution_count": 14,
   "id": "ee37ec74",
   "metadata": {},
   "outputs": [
    {
     "name": "stdout",
     "output_type": "stream",
     "text": [
      "['a', 'c']\n"
     ]
    }
   ],
   "source": [
    "##remove() method\n",
    "x = ['a','b','c']\n",
    "x.remove('b')\n",
    "print(x)"
   ]
  },
  {
   "cell_type": "code",
   "execution_count": 16,
   "id": "324964e2",
   "metadata": {},
   "outputs": [
    {
     "name": "stdout",
     "output_type": "stream",
     "text": [
      "['a', 'b']\n"
     ]
    }
   ],
   "source": [
    "##pop() method\n",
    "x = ['a','b','c']\n",
    "x.pop()\n",
    "print(x)"
   ]
  },
  {
   "cell_type": "markdown",
   "id": "6070bf7e",
   "metadata": {},
   "source": [
    "12. Describe how list values and string values are identical."
   ]
  },
  {
   "cell_type": "markdown",
   "id": "b334f7a4",
   "metadata": {},
   "source": [
    "Answer :\n",
    "\n",
    "   Both lists and strings can be passed to len()\n",
    "   List have indexes and strings have slices\n",
    "   Can be used in for loops\n",
    "   Can be concatenated or replicated\n",
    "   Can be used with the in and not in operators"
   ]
  },
  {
   "cell_type": "markdown",
   "id": "a6f48d2a",
   "metadata": {},
   "source": [
    "13. What's the difference between tuples and lists?"
   ]
  },
  {
   "cell_type": "markdown",
   "id": "0a222a52",
   "metadata": {},
   "source": [
    "Answer:\n",
    "    Tuples :\n",
    "\n",
    "    Tuples are immutable i.e if once tuple is created that elements in the tuple should not be removed and also           not possible to append the elements to the tuple.\n",
    "    Tuples are created by using ()\n",
    "\n",
    "Lists :\n",
    "\n",
    "   List are mutable i.e list elements can be changed,removed,append.\n",
    "   List is created by using []"
   ]
  },
  {
   "cell_type": "markdown",
   "id": "264c6d44",
   "metadata": {},
   "source": [
    "14. How do you type a tuple value that only contains the integer 42?"
   ]
  },
  {
   "cell_type": "code",
   "execution_count": 17,
   "id": "4238a9b8",
   "metadata": {},
   "outputs": [
    {
     "name": "stdout",
     "output_type": "stream",
     "text": [
      "65\n"
     ]
    }
   ],
   "source": [
    "##code\n",
    "t1 = (65)\n",
    "print(t1)"
   ]
  },
  {
   "cell_type": "markdown",
   "id": "a2181305",
   "metadata": {},
   "source": [
    "15. How do you get a list value's tuple form? How do you get a tuple value's list form?"
   ]
  },
  {
   "cell_type": "code",
   "execution_count": 18,
   "id": "69f196d0",
   "metadata": {},
   "outputs": [
    {
     "name": "stdout",
     "output_type": "stream",
     "text": [
      "(1, 2, 3, 4)\n"
     ]
    }
   ],
   "source": [
    "##tuple code\n",
    "l1 = [1,2,3,4]\n",
    "t1 = tuple(l1)\n",
    "print(t1)"
   ]
  },
  {
   "cell_type": "code",
   "execution_count": 20,
   "id": "84507bbb",
   "metadata": {},
   "outputs": [
    {
     "name": "stdout",
     "output_type": "stream",
     "text": [
      "[1, 2, 3, 4]\n"
     ]
    }
   ],
   "source": [
    "##list code\n",
    "t1 = (1,2,3,4)\n",
    "l1 = list(t1)\n",
    "print(l1)"
   ]
  },
  {
   "cell_type": "markdown",
   "id": "f5374098",
   "metadata": {},
   "source": [
    "16. Variables that \"contain\" list values are not necessarily lists themselves. Instead, what do they contain?"
   ]
  },
  {
   "cell_type": "markdown",
   "id": "d9e3f2e2",
   "metadata": {},
   "source": [
    "Answer :\n",
    "\n",
    "  They contain references to list values."
   ]
  },
  {
   "cell_type": "markdown",
   "id": "2eef72d0",
   "metadata": {},
   "source": [
    "17.How do you distinguish between copy.copy() and copy.deepcopy()?\n",
    "Answer :\n",
    "\n",
    "  The copy.copy() function will do a shallow copy of a list, while the copy.deepcopy() function will do a deep           copy of a list. That is, only copy.deepcopy() will duplicate any lists inside the list."
   ]
  },
  {
   "cell_type": "code",
   "execution_count": null,
   "id": "3a1cfbfb",
   "metadata": {},
   "outputs": [],
   "source": []
  }
 ],
 "metadata": {
  "kernelspec": {
   "display_name": "Python 3 (ipykernel)",
   "language": "python",
   "name": "python3"
  },
  "language_info": {
   "codemirror_mode": {
    "name": "ipython",
    "version": 3
   },
   "file_extension": ".py",
   "mimetype": "text/x-python",
   "name": "python",
   "nbconvert_exporter": "python",
   "pygments_lexer": "ipython3",
   "version": "3.9.12"
  }
 },
 "nbformat": 4,
 "nbformat_minor": 5
}
