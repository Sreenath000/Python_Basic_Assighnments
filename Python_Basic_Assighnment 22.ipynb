{
 "cells": [
  {
   "cell_type": "markdown",
   "id": "18bff25b",
   "metadata": {},
   "source": [
    "1. What is the result of the code, and explain?"
   ]
  },
  {
   "cell_type": "code",
   "execution_count": 3,
   "id": "a7d2b9e7",
   "metadata": {},
   "outputs": [
    {
     "name": "stdout",
     "output_type": "stream",
     "text": [
      "iNeuron\n"
     ]
    }
   ],
   "source": [
    "x = 'iNeuron'\n",
    "def func():\n",
    "    print(x)\n",
    "func()"
   ]
  },
  {
   "cell_type": "markdown",
   "id": "7d6eb1f3",
   "metadata": {},
   "source": [
    "Answer :\n",
    "\n",
    " INeuron is the result of the above code, it's because the function intially looks for the variable X in its local \n",
    " scope,But since there is no local variable X, its returns the value of global variable x ie iNeuron"
   ]
  },
  {
   "cell_type": "markdown",
   "id": "d5c11753",
   "metadata": {},
   "source": [
    "2.What is the result of the code, and expalin?"
   ]
  },
  {
   "cell_type": "code",
   "execution_count": 11,
   "id": "650cc0fe",
   "metadata": {},
   "outputs": [
    {
     "name": "stdout",
     "output_type": "stream",
     "text": [
      "iNeuron\n"
     ]
    }
   ],
   "source": [
    "X = 'iNeuron'\n",
    "def func():\n",
    "    X = 'NIL'\n",
    "\n",
    "func()\n",
    "print(X)"
   ]
  },
  {
   "cell_type": "markdown",
   "id": "2a84234d",
   "metadata": {},
   "source": [
    "Answer :\n",
    "\n",
    " The result for this above code is iNeuron because the function contains both local variable and global variable.\n",
    " The above functions take the value of x as global variable."
   ]
  },
  {
   "cell_type": "markdown",
   "id": "67a8aa02",
   "metadata": {},
   "source": [
    "3.What is the result of the code,and explain?"
   ]
  },
  {
   "cell_type": "code",
   "execution_count": 12,
   "id": "c9a70986",
   "metadata": {},
   "outputs": [
    {
     "name": "stdout",
     "output_type": "stream",
     "text": [
      "NIL\n",
      "iNeuron\n"
     ]
    }
   ],
   "source": [
    "X = 'iNeuron'\n",
    "def func():\n",
    "    X = 'NIL'\n",
    "    print(X)\n",
    "func()\n",
    "print(x)"
   ]
  },
  {
   "cell_type": "markdown",
   "id": "73bba601",
   "metadata": {},
   "source": [
    "Answer :\n",
    "\n",
    "  The output of the above code is NI and iNeuron. X=NI is in the local scope of the function func() hence the \n",
    "  function prints the x value as NI. X = 'iNeuron' is in the global scope. hence print(X) prints output as \n",
    "  iNeuron."
   ]
  },
  {
   "cell_type": "markdown",
   "id": "2ccc1863",
   "metadata": {},
   "source": [
    "4..What is the result of the code,and explain?"
   ]
  },
  {
   "cell_type": "code",
   "execution_count": 13,
   "id": "88ca18a0",
   "metadata": {},
   "outputs": [
    {
     "name": "stdout",
     "output_type": "stream",
     "text": [
      "NI\n"
     ]
    }
   ],
   "source": [
    "x = 'iNeuron'\n",
    "def func():\n",
    "    global X\n",
    "    X = 'NI'\n",
    "func()\n",
    "print(X)"
   ]
  },
  {
   "cell_type": "markdown",
   "id": "dd2e67e7",
   "metadata": {},
   "source": [
    "Answer :\n",
    "\n",
    "  The result for this above code is NI, hence the global keyword allows a variable to be accessible in the\n",
    "  current scope. since we are using global keyword inside the function func it directly access the variable in \n",
    "  X in global scope. and changes its value to NI. hence the output of the code is NI"
   ]
  },
  {
   "cell_type": "markdown",
   "id": "06caa2e6",
   "metadata": {},
   "source": [
    "5.What is the result of the code,and explain?"
   ]
  },
  {
   "cell_type": "code",
   "execution_count": 14,
   "id": "0b2d1ba4",
   "metadata": {},
   "outputs": [
    {
     "name": "stdout",
     "output_type": "stream",
     "text": [
      "NI\n"
     ]
    },
    {
     "data": {
      "text/plain": [
       "'iNeuron'"
      ]
     },
     "execution_count": 14,
     "metadata": {},
     "output_type": "execute_result"
    }
   ],
   "source": [
    "X = 'iNeuron'\n",
    "def func():\n",
    "    X = 'NI'\n",
    "    def nested():\n",
    "        print(X)\n",
    "    nested()\n",
    "func()\n",
    "X"
   ]
  },
  {
   "cell_type": "markdown",
   "id": "fbc305bf",
   "metadata": {},
   "source": [
    "Answer :\n",
    "\n",
    "The output of the code is NI. the reason for this output is if a function wants to access a variable, if its \n",
    "not available in its localscope. it looks for the variable in its global scope. similarly here also function \n",
    "nested looks for variable X in its global scope. hence the output of the code is NI"
   ]
  },
  {
   "cell_type": "markdown",
   "id": "9cf76ed6",
   "metadata": {},
   "source": [
    "6.What is the result of the code,and explain?"
   ]
  },
  {
   "cell_type": "code",
   "execution_count": 15,
   "id": "b25bf8c1",
   "metadata": {},
   "outputs": [
    {
     "name": "stdout",
     "output_type": "stream",
     "text": [
      "Spam\n"
     ]
    }
   ],
   "source": [
    "def func():\n",
    "    X = 'NI'\n",
    "    def nested():\n",
    "        nonlocal X\n",
    "        X = 'Spam'\n",
    "    nested()\n",
    "    print(X)\n",
    "func()"
   ]
  },
  {
   "cell_type": "markdown",
   "id": "55f6ee14",
   "metadata": {},
   "source": [
    "Answer :\n",
    "\n",
    "The output of the code is Spam. nonlocal keyword in python is used to declare a variable as not local.Hence the statement X = \"Spam\" is modified in the global scope. hence the output of print(X) statement is Spam"
   ]
  },
  {
   "cell_type": "code",
   "execution_count": null,
   "id": "aec9cd44",
   "metadata": {},
   "outputs": [],
   "source": []
  },
  {
   "cell_type": "code",
   "execution_count": null,
   "id": "553563c4",
   "metadata": {},
   "outputs": [],
   "source": []
  }
 ],
 "metadata": {
  "kernelspec": {
   "display_name": "Python 3 (ipykernel)",
   "language": "python",
   "name": "python3"
  },
  "language_info": {
   "codemirror_mode": {
    "name": "ipython",
    "version": 3
   },
   "file_extension": ".py",
   "mimetype": "text/x-python",
   "name": "python",
   "nbconvert_exporter": "python",
   "pygments_lexer": "ipython3",
   "version": "3.9.12"
  }
 },
 "nbformat": 4,
 "nbformat_minor": 5
}
