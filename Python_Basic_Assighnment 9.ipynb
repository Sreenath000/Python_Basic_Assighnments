{
 "cells": [
  {
   "cell_type": "markdown",
   "id": "112b2d57",
   "metadata": {},
   "source": [
    "1. To what does a relative path refer?"
   ]
  },
  {
   "cell_type": "markdown",
   "id": "93527191",
   "metadata": {},
   "source": [
    "Answer :\n",
    "\n",
    "    os.path.relpath() method in Python is used to get a relative filepath to the given path either from the current working directory or from the given directory.\n",
    "\n",
    "Note:\n",
    "\n",
    " This method only computes the relative path. The existence of the given path or directory is not checked.\n",
    "\n",
    "Syntax :\n",
    "\n",
    "    os.path.relpath(path, start = os.curdir)"
   ]
  },
  {
   "cell_type": "markdown",
   "id": "c01ca26c",
   "metadata": {},
   "source": [
    "2.What does an absolute path start with your operating system?\n",
    "\n",
    "Answer :\n",
    "\n",
    "    An absolute path is defined as the specifying the location of a file or directory from the root directory(/).\n",
    "\n",
    "    To write an absolute path-name:\n",
    "\n",
    "    Start at the root directory ( / ) and work down.\n",
    "\n",
    "    Write a slash ( / ) after every directory name."
   ]
  },
  {
   "cell_type": "markdown",
   "id": "318e315e",
   "metadata": {},
   "source": [
    "3.What do the functions os.getcwd() and os.chdir() do?\n",
    "\n",
    "Answer :\n",
    "\n",
    "    os.getcwd() function of code gives the current working directory path of the location..\n",
    "\n",
    "    os.chdir() function changes the directory path of the loaction.\n",
    "    \n",
    "    \n",
    "4.What are the . and .. folders?\n",
    "\n",
    "Answer :\n",
    "\n",
    "      . represents the current working directory.\n",
    "\n",
    "      .. represents the current parent directory."
   ]
  },
  {
   "cell_type": "markdown",
   "id": "1423c7f2",
   "metadata": {},
   "source": [
    "5.In C:\\bacon\\eggs\\spam.txt, which part is the dir name, and which part is the base name?\n",
    "    \n",
    "Answer :\n",
    "\n",
    "    C:\\bacon\\eggs is the dir name and spam.txt is the base name.\n",
    "        \n",
    "        \n",
    "6.What are the three “mode” arguments that can be passed to the open() function?\n",
    "\n",
    "Answer :\n",
    "\n",
    "    A file can be Accessed in python using open() function. open function takes two arguments filename and mode \n",
    "    of operation (optional). if mode is not provided the default mode of opening is read mode\n",
    "    So, the syntax being: open(filename, mode).\n",
    "    The string 'r' for read mode, 'w' for write mode, and 'a' for append mode."
   ]
  },
  {
   "cell_type": "markdown",
   "id": "dd6b2a21",
   "metadata": {},
   "source": [
    "7.What happens if an existing file is opened in write mode?\n",
    "\n",
    "Answer :\n",
    "\n",
    "     An existing file opened in write mode is erased and completely overwritten.\n",
    "        \n",
    "        \n",
    "8.How do you tell the difference between read() and readlines()?\n",
    "\n",
    "Answer :\n",
    "\n",
    "    The read() method returns the file's entire contents as a single string value. The readlines() method \n",
    "    returns a list of strings, where each string is a line from the file's contents.\n",
    "    \n",
    "    \n",
    "9.What data structure does a shelf value resemble?\n",
    "\n",
    "Answer :\n",
    "\n",
    "   A shelf value resembles a dictionary value; it has keys and values, along with keys() and values() methods \n",
    "   that  work similarly to the dictionary methods of the same names."
   ]
  },
  {
   "cell_type": "code",
   "execution_count": null,
   "id": "5bbc2179",
   "metadata": {},
   "outputs": [],
   "source": []
  }
 ],
 "metadata": {
  "kernelspec": {
   "display_name": "Python 3 (ipykernel)",
   "language": "python",
   "name": "python3"
  },
  "language_info": {
   "codemirror_mode": {
    "name": "ipython",
    "version": 3
   },
   "file_extension": ".py",
   "mimetype": "text/x-python",
   "name": "python",
   "nbconvert_exporter": "python",
   "pygments_lexer": "ipython3",
   "version": "3.9.12"
  }
 },
 "nbformat": 4,
 "nbformat_minor": 5
}
