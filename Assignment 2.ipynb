{
 "cells": [
  {
   "cell_type": "markdown",
   "id": "db999a20",
   "metadata": {},
   "source": [
    "1.What are the two values of the Boolean data type? How do you write them?\n",
    "\n",
    "Answer :\n",
    "\n",
    "    Boolean data type is built-in  data type provided by python whoch represents two values i.e True and False.\n",
    "    Generally, it is used to represent the truth  values of the expressions.\n",
    "    It represenrs True as 1(one) and False represents as 0(zero).\n",
    "    \n",
    " Ex:   "
   ]
  },
  {
   "cell_type": "code",
   "execution_count": 1,
   "id": "3d3ff881",
   "metadata": {},
   "outputs": [
    {
     "name": "stdout",
     "output_type": "stream",
     "text": [
      "<class 'bool'>\n"
     ]
    }
   ],
   "source": [
    "s = True\n",
    "print(type(s))"
   ]
  },
  {
   "cell_type": "code",
   "execution_count": 2,
   "id": "79bb13d1",
   "metadata": {},
   "outputs": [
    {
     "name": "stdout",
     "output_type": "stream",
     "text": [
      "<class 'bool'>\n"
     ]
    }
   ],
   "source": [
    "s = False\n",
    "print(type(s))"
   ]
  },
  {
   "cell_type": "markdown",
   "id": "fb4dd574",
   "metadata": {},
   "source": [
    "2. What are the three different types of Boolean operators?\n",
    "\n",
    "Answer :\n",
    "\n",
    "    Boolean operations are simple arithmetic of True and False values.\n",
    "    These values can be manipulated by the use of boolean operators which include AND, Or and not"
   ]
  },
  {
   "cell_type": "markdown",
   "id": "075a9e28",
   "metadata": {},
   "source": [
    "3. Make a list of each Boolean operator's truth tables (i.e. every possible combination of Boolean values for the operator and what it evaluate ).\n",
    "\n",
    "Answer:\n",
    "       Boolean Operators\n",
    "       1.AND\n",
    "       2.OR\n",
    "       3.NOT\n",
    "       \n",
    "Truth Tables Using AND Operator :\n",
    "\n",
    "A B A and B\n",
    "\n",
    "True True True\n",
    "\n",
    "True False False\n",
    "\n",
    "False True False\n",
    "\n",
    "False False False\n",
    "\n",
    "Truth Tables Using Or Operator\n",
    "\n",
    "A B A or B\n",
    "\n",
    "True True True\n",
    "\n",
    "True False True\n",
    "\n",
    "False True True\n",
    "\n",
    "False False False\n",
    "\n",
    "Truth Table Using Not Operator\n",
    "\n",
    "A Not A\n",
    "\n",
    "True False\n",
    "\n",
    "False True  "
   ]
  },
  {
   "cell_type": "markdown",
   "id": "f6562a01",
   "metadata": {},
   "source": [
    "4. What are the values of the following expressions?\n",
    "(5 > 4) and (3 == 5)\n",
    "not (5 > 4)\n",
    "(5 > 4) or (3 == 5)\n",
    "not ((5 > 4) or (3 == 5))\n",
    "(True and True) and (True == False)\n",
    "(not False) or (not True)\n",
    "\n",
    "\n"
   ]
  },
  {
   "cell_type": "code",
   "execution_count": 7,
   "id": "51e8f3f0",
   "metadata": {},
   "outputs": [
    {
     "data": {
      "text/plain": [
       "False"
      ]
     },
     "execution_count": 7,
     "metadata": {},
     "output_type": "execute_result"
    }
   ],
   "source": [
    "(5>4)and(3==5)"
   ]
  },
  {
   "cell_type": "code",
   "execution_count": 9,
   "id": "83aca052",
   "metadata": {},
   "outputs": [
    {
     "data": {
      "text/plain": [
       "False"
      ]
     },
     "execution_count": 9,
     "metadata": {},
     "output_type": "execute_result"
    }
   ],
   "source": [
    "not (5 > 4)"
   ]
  },
  {
   "cell_type": "code",
   "execution_count": 10,
   "id": "cd1b6152",
   "metadata": {},
   "outputs": [
    {
     "data": {
      "text/plain": [
       "True"
      ]
     },
     "execution_count": 10,
     "metadata": {},
     "output_type": "execute_result"
    }
   ],
   "source": [
    "(5 > 4) or (3 == 5)"
   ]
  },
  {
   "cell_type": "code",
   "execution_count": 11,
   "id": "8630d1b5",
   "metadata": {},
   "outputs": [
    {
     "data": {
      "text/plain": [
       "False"
      ]
     },
     "execution_count": 11,
     "metadata": {},
     "output_type": "execute_result"
    }
   ],
   "source": [
    "not ((5 > 4) or (3 == 5))"
   ]
  },
  {
   "cell_type": "code",
   "execution_count": 12,
   "id": "955630e3",
   "metadata": {},
   "outputs": [
    {
     "data": {
      "text/plain": [
       "False"
      ]
     },
     "execution_count": 12,
     "metadata": {},
     "output_type": "execute_result"
    }
   ],
   "source": [
    "(True and True) and (True == False)"
   ]
  },
  {
   "cell_type": "code",
   "execution_count": 13,
   "id": "117a1843",
   "metadata": {},
   "outputs": [
    {
     "data": {
      "text/plain": [
       "True"
      ]
     },
     "execution_count": 13,
     "metadata": {},
     "output_type": "execute_result"
    }
   ],
   "source": [
    "(not False) or (not True)"
   ]
  },
  {
   "cell_type": "markdown",
   "id": "ce555939",
   "metadata": {},
   "source": [
    "5. What are the six comparison operators?\n",
    "\n",
    "Answer :\n",
    "\n",
    "    Python has six comparision operators which are as follows \n",
    "    1. Eqaul to(==)\n",
    "    2. Less than(<)\n",
    "    3. Greater than(>)\n",
    "    4. Less than or Equal to(<=)\n",
    "    5. Greater than or Equal to(>=)\n",
    "    6. Not Equal to(!=)"
   ]
  },
  {
   "cell_type": "markdown",
   "id": "250fd34c",
   "metadata": {},
   "source": [
    "6. How do you tell the difference between the equal to and assignment operators?Describe a condition and when you would use one.\n",
    "\n",
    "Answer :\n",
    "\n",
    "    The \"=\"is an assighnment operator which is used to assign a value on the right to the variable on the left.\n",
    "    The \"==\" operator checks whether the given condition is equal or not.\n",
    "    If so returns True. Otherwise, it returns false"
   ]
  },
  {
   "cell_type": "code",
   "execution_count": 1,
   "id": "69fc0b71",
   "metadata": {},
   "outputs": [
    {
     "name": "stdout",
     "output_type": "stream",
     "text": [
      "35\n"
     ]
    }
   ],
   "source": [
    "### Condition for Assignment Operators\n",
    "s = 35\n",
    "print(s)"
   ]
  },
  {
   "cell_type": "code",
   "execution_count": 2,
   "id": "36517268",
   "metadata": {},
   "outputs": [
    {
     "data": {
      "text/plain": [
       "False"
      ]
     },
     "execution_count": 2,
     "metadata": {},
     "output_type": "execute_result"
    }
   ],
   "source": [
    "### Condition for Equal Operator\n",
    "3==4"
   ]
  },
  {
   "cell_type": "markdown",
   "id": "5448b701",
   "metadata": {},
   "source": [
    "In above code \"==\" is the operand checking the condition is either True or False"
   ]
  },
  {
   "cell_type": "markdown",
   "id": "7e424e53",
   "metadata": {},
   "source": [
    "7. Identify the three blocks in this code:\n",
    "spam = 0\n",
    "if spam == 10:\n",
    "print('eggs')\n",
    "if spam > 5:\n",
    "print('bacon')\n",
    "else:\n",
    "print('ham')\n",
    "print('spam')\n",
    "print('spam')\n"
   ]
  },
  {
   "cell_type": "code",
   "execution_count": 5,
   "id": "54d60cae",
   "metadata": {},
   "outputs": [
    {
     "name": "stdout",
     "output_type": "stream",
     "text": [
      "ham\n",
      "spam\n",
      "spam\n"
     ]
    }
   ],
   "source": [
    "spam = 0\n",
    "if spam == 10:\n",
    "   print('eggs')\n",
    "if spam > 5:\n",
    "   print('bacon')\n",
    "else:\n",
    "   print('ham')\n",
    "   print('spam')\n",
    "   print('spam')\n"
   ]
  },
  {
   "cell_type": "markdown",
   "id": "78ebc187",
   "metadata": {},
   "source": [
    "8. Write code that prints Hello if 1 is stored in spam, prints Howdy if 2 is stored in spam, and prints Greetings! if anything else is stored in spam."
   ]
  },
  {
   "cell_type": "code",
   "execution_count": 6,
   "id": "fc94d19c",
   "metadata": {},
   "outputs": [
    {
     "name": "stdout",
     "output_type": "stream",
     "text": [
      "Hello\n",
      " \n"
     ]
    }
   ],
   "source": [
    "s = \"Hello\"\n",
    "print(s)\n",
    "if spam==1:\n",
    "    print(\"Howdy\")\n",
    "elif spam==2:\n",
    "    print(\"Greetings!\")\n",
    "else: \n",
    "    print(\" \")"
   ]
  },
  {
   "cell_type": "markdown",
   "id": "5ded5532",
   "metadata": {},
   "source": [
    "9.If your programme is stuck in an endless loop, what keys you’ll press\n",
    "\n",
    "Answer :\n",
    "\n",
    " \"ctrl+c\""
   ]
  },
  {
   "cell_type": "markdown",
   "id": "21ae081d",
   "metadata": {},
   "source": [
    "10. How can you tell the difference between break and continue?The break statement terminates the loop containing it. Control of the program flows to the statement immediately after the body of the loop.\n",
    "\n",
    "Answer:\n",
    "\n",
    "If the break statement is inside a nested loop (loop inside another loop), the break statement will terminate the innermost loop.\n",
    "\n",
    "The continue statement is used to skip the rest of the code inside a loop for the current iteration only. Loop does not terminate but continues on with the next iteration\n",
    "     "
   ]
  },
  {
   "cell_type": "markdown",
   "id": "2f1207a9",
   "metadata": {},
   "source": [
    "11. In a for loop, what is the difference between range(10), range(0, 10), and range(0, 10, 1)?\n",
    "\n",
    "Answer :\n",
    "\n",
    "    range(10) means here start = 0,step = 1(By default),stop=9\n",
    "    range(0,10) means here start =0,step = 1(By default),stop=9\n",
    "    range(0,10,1) means here start =0,step = 1(By default),stop=9\n",
    "    Thers is nothing differnce in the looping "
   ]
  },
  {
   "cell_type": "markdown",
   "id": "981c254f",
   "metadata": {},
   "source": [
    "12. Write a short program that prints the numbers 1 to 10 using a for loop. Then write an equivalent program that prints the numbers 1 to 10 using a while loop."
   ]
  },
  {
   "cell_type": "code",
   "execution_count": 8,
   "id": "b54899a2",
   "metadata": {},
   "outputs": [
    {
     "name": "stdout",
     "output_type": "stream",
     "text": [
      "1\n",
      "2\n",
      "3\n",
      "4\n",
      "5\n",
      "6\n",
      "7\n",
      "8\n",
      "9\n",
      "10\n"
     ]
    }
   ],
   "source": [
    "s = 0\n",
    "for i in range(1,11):\n",
    "    z = s + i\n",
    "    print(z)"
   ]
  },
  {
   "cell_type": "code",
   "execution_count": 10,
   "id": "e6e6f344",
   "metadata": {},
   "outputs": [
    {
     "name": "stdout",
     "output_type": "stream",
     "text": [
      "0\n",
      "1\n",
      "2\n",
      "3\n",
      "4\n",
      "5\n",
      "6\n",
      "7\n",
      "8\n",
      "9\n",
      "10\n"
     ]
    }
   ],
   "source": [
    "s = 0\n",
    "while s<=10:\n",
    "    print(s)\n",
    "    s += 1"
   ]
  },
  {
   "cell_type": "code",
   "execution_count": 11,
   "id": "ac0f64c7",
   "metadata": {},
   "outputs": [
    {
     "name": "stdout",
     "output_type": "stream",
     "text": [
      "1\n",
      "2\n",
      "3\n",
      "4\n",
      "5\n",
      "6\n",
      "7\n",
      "8\n",
      "9\n",
      "10\n"
     ]
    }
   ],
   "source": [
    "for i in range(1,11):\n",
    "    print(i)\n",
    "    i+=1"
   ]
  },
  {
   "cell_type": "markdown",
   "id": "c5f2f968",
   "metadata": {},
   "source": [
    "13. If you had a function named bacon() inside a module named spam, how would you call it after importing spam?\n",
    "\n",
    "Answer :\n",
    "\n",
    "    This function called spam.bacon()"
   ]
  },
  {
   "cell_type": "code",
   "execution_count": null,
   "id": "2b28e847",
   "metadata": {},
   "outputs": [],
   "source": []
  }
 ],
 "metadata": {
  "kernelspec": {
   "display_name": "Python 3 (ipykernel)",
   "language": "python",
   "name": "python3"
  },
  "language_info": {
   "codemirror_mode": {
    "name": "ipython",
    "version": 3
   },
   "file_extension": ".py",
   "mimetype": "text/x-python",
   "name": "python",
   "nbconvert_exporter": "python",
   "pygments_lexer": "ipython3",
   "version": "3.9.12"
  }
 },
 "nbformat": 4,
 "nbformat_minor": 5
}
