{
 "cells": [
  {
   "cell_type": "markdown",
   "id": "ff8de4f9",
   "metadata": {},
   "source": [
    "1. Why are functions advantageous to have in your programs?"
   ]
  },
  {
   "cell_type": "markdown",
   "id": "117f9ec9",
   "metadata": {},
   "source": [
    "Answer :\n",
    "\n",
    "     Functions reduce the need for duplicate code. This makes programs shorter, easier to read, and easier to update. The main advantage of functions is code Reusability."
   ]
  },
  {
   "cell_type": "markdown",
   "id": "6bf13a61",
   "metadata": {},
   "source": [
    "2. When does the code in a function run: when it's specified or when it's called?"
   ]
  },
  {
   "cell_type": "markdown",
   "id": "4e2547df",
   "metadata": {},
   "source": [
    "Answer :\n",
    "\n",
    "  The code in a function executes when the function is called, not when the function is specified."
   ]
  },
  {
   "cell_type": "markdown",
   "id": "597e1f69",
   "metadata": {},
   "source": [
    "3. What statement creates a function?\n",
    "\n",
    "Answer :\n",
    "\n",
    " The def statement defines a function\n",
    " \n",
    " Syntax of Function:\n",
    "\n",
    "def function_name(parameters):"
   ]
  },
  {
   "cell_type": "markdown",
   "id": "a0906590",
   "metadata": {},
   "source": [
    "4. What is the difference between a function and a function call?"
   ]
  },
  {
   "cell_type": "markdown",
   "id": "d0feb226",
   "metadata": {},
   "source": [
    "Answer :\n",
    "\n",
    " A function is procedure to achieve a particular result. while function call is using this function to achive that task. Using a function to do a particular task any point in program is called as function call."
   ]
  },
  {
   "cell_type": "markdown",
   "id": "0b2825cb",
   "metadata": {},
   "source": [
    "5. How many global scopes are there in a Python program? How many local scopes?"
   ]
  },
  {
   "cell_type": "markdown",
   "id": "d7509e49",
   "metadata": {},
   "source": [
    "Answer :\n",
    "\n",
    "     There is one global scope, and a local scope is created whenever a function is called."
   ]
  },
  {
   "cell_type": "markdown",
   "id": "975b8d44",
   "metadata": {},
   "source": [
    "6. What happens to variables in a local scope when the function call returns?"
   ]
  },
  {
   "cell_type": "markdown",
   "id": "80e51477",
   "metadata": {},
   "source": [
    "Answer.\n",
    "\n",
    " When a function returns, the local scope is destroyed, and all the variables in it are forgotten."
   ]
  },
  {
   "cell_type": "markdown",
   "id": "07a6cae2",
   "metadata": {},
   "source": [
    "7. What is the concept of a return value? Is it possible to have a return value in an expression?"
   ]
  },
  {
   "cell_type": "markdown",
   "id": "367f1113",
   "metadata": {},
   "source": [
    "Answer :\n",
    "\n",
    "   A return value is the value that a function call evaluates to. Like any value, a return value can be \n",
    "   used as  part of an expression."
   ]
  },
  {
   "cell_type": "markdown",
   "id": "281c2f53",
   "metadata": {},
   "source": [
    "8. If a function does not have a return statement, what is the return value of a call to that function?"
   ]
  },
  {
   "cell_type": "markdown",
   "id": "8f8bc44d",
   "metadata": {},
   "source": [
    "Answer :\n",
    "\n",
    "  If there is no return statement for a function, its return value is None.\n"
   ]
  },
  {
   "cell_type": "markdown",
   "id": "482977c5",
   "metadata": {},
   "source": [
    "9. How do you make a function variable refer to the global variable?"
   ]
  },
  {
   "cell_type": "markdown",
   "id": "b14c7efd",
   "metadata": {},
   "source": [
    "Answer :\n",
    "\n",
    "  A global statement will force a variable in a function to refer to the global variable. If you want \n",
    "  to refer to a global variable in a function, you can use the global keyword to declare which \n",
    "  variables are global."
   ]
  },
  {
   "cell_type": "markdown",
   "id": "cc39bbe3",
   "metadata": {},
   "source": [
    "10. What is the data type of None?"
   ]
  },
  {
   "cell_type": "markdown",
   "id": "d23d5943",
   "metadata": {},
   "source": [
    "Answer :\n",
    "\n",
    "  The data type of None is NoneType."
   ]
  },
  {
   "cell_type": "markdown",
   "id": "ac9e583e",
   "metadata": {},
   "source": [
    "11. What does the sentence import areallyourpetsnamederic do?\n",
    "\n",
    "Answer :\n",
    "\n",
    " That import statement imports a module named areallyourpetsnamederic."
   ]
  },
  {
   "cell_type": "markdown",
   "id": "ca099fab",
   "metadata": {},
   "source": [
    "12. If you had a bacon() feature in a spam module, what would you call it after importing spam?\n",
    "\n",
    "Answer :\n",
    "\n",
    "  This function can be called with spam.bacon()."
   ]
  },
  {
   "cell_type": "markdown",
   "id": "a9db3c72",
   "metadata": {},
   "source": [
    "13. What can you do to save a programme from crashing if it encounters an error?\n",
    "\n",
    "Answer :\n",
    "\n",
    "  Place the line of code that might cause an error in a try clause and use except block to handle the error.\n"
   ]
  },
  {
   "cell_type": "markdown",
   "id": "08bfcae1",
   "metadata": {},
   "source": [
    "14. What is the purpose of the try clause? What is the purpose of the except clause?\n",
    "\n",
    "Answer :\n",
    "\n",
    "   The code that could potentially cause an error goes in the try clause. The code that executes if \n",
    "   an error happens goes in the except clause.\n"
   ]
  },
  {
   "cell_type": "code",
   "execution_count": null,
   "id": "ca2d01d3",
   "metadata": {},
   "outputs": [],
   "source": []
  }
 ],
 "metadata": {
  "kernelspec": {
   "display_name": "Python 3 (ipykernel)",
   "language": "python",
   "name": "python3"
  },
  "language_info": {
   "codemirror_mode": {
    "name": "ipython",
    "version": 3
   },
   "file_extension": ".py",
   "mimetype": "text/x-python",
   "name": "python",
   "nbconvert_exporter": "python",
   "pygments_lexer": "ipython3",
   "version": "3.9.12"
  }
 },
 "nbformat": 4,
 "nbformat_minor": 5
}
