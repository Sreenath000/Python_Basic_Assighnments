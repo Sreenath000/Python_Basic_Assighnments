{
 "cells": [
  {
   "cell_type": "markdown",
   "id": "d85d4793",
   "metadata": {},
   "source": [
    "1. What are escape characters, and how do you use them?"
   ]
  },
  {
   "cell_type": "markdown",
   "id": "92989907",
   "metadata": {},
   "source": [
    "Answer :\n",
    "\n",
    "   \\n represents a new line.\n",
    "   \\t represents a tab.\n",
    "   \\\\ This represents a backslah.\n",
    "   \\r This represents a Carriage return.\n",
    "   \\f represents a formfeed.\n",
    "   \\' represents a single quote.\n",
    "   \\b represents a backspace.\n",
    "   \\ooo represents a octal value.\n",
    "   \\xhh represents a hex value.\n",
    "   \\uxxxx represents 16 bits hex value.\n",
    "   \\uxxxxxxxx represents 32 bits hex value."
   ]
  },
  {
   "cell_type": "code",
   "execution_count": 1,
   "id": "da8e66dd",
   "metadata": {},
   "outputs": [
    {
     "name": "stdout",
     "output_type": "stream",
     "text": [
      "It's alright.\n"
     ]
    }
   ],
   "source": [
    "s = \"It\\'s alright.\"\n",
    "print(s)"
   ]
  },
  {
   "cell_type": "code",
   "execution_count": 2,
   "id": "b359accb",
   "metadata": {},
   "outputs": [
    {
     "name": "stdout",
     "output_type": "stream",
     "text": [
      "Hello \\ Wrold\n"
     ]
    }
   ],
   "source": [
    "v = \"Hello \\\\ Wrold\"\n",
    "print(v)"
   ]
  },
  {
   "cell_type": "code",
   "execution_count": 3,
   "id": "2e6bf0db",
   "metadata": {},
   "outputs": [
    {
     "name": "stdout",
     "output_type": "stream",
     "text": [
      "Hello\n",
      "Wrold\n"
     ]
    }
   ],
   "source": [
    "z = \"Hello\\nWrold\"\n",
    "print(z)\n"
   ]
  },
  {
   "cell_type": "code",
   "execution_count": 5,
   "id": "9e79dca1",
   "metadata": {},
   "outputs": [
    {
     "name": "stdout",
     "output_type": "stream",
     "text": [
      "Hello\r",
      "Wrold\n"
     ]
    }
   ],
   "source": [
    "d = \"Hello\\rWrold\"\n",
    "print(d)"
   ]
  },
  {
   "cell_type": "code",
   "execution_count": 6,
   "id": "feed9b4d",
   "metadata": {},
   "outputs": [
    {
     "name": "stdout",
     "output_type": "stream",
     "text": [
      "Good\t Morning\n"
     ]
    }
   ],
   "source": [
    "z = \"Good\\t Morning\"\n",
    "print(z)"
   ]
  },
  {
   "cell_type": "code",
   "execution_count": 8,
   "id": "2d3ec960",
   "metadata": {},
   "outputs": [
    {
     "name": "stdout",
     "output_type": "stream",
     "text": [
      "Hello. \bWrold\n"
     ]
    }
   ],
   "source": [
    "z = \"Hello. \\bWrold\"\n",
    "print(z)\n"
   ]
  },
  {
   "cell_type": "code",
   "execution_count": 9,
   "id": "91556c9c",
   "metadata": {},
   "outputs": [
    {
     "name": "stdout",
     "output_type": "stream",
     "text": [
      "\u001d",
      ".,\n"
     ]
    }
   ],
   "source": [
    "x = \"\\35\\56\\54\"\n",
    "print(x)"
   ]
  },
  {
   "cell_type": "markdown",
   "id": "2576659f",
   "metadata": {},
   "source": [
    "2. What do the escape characters n and t stand for?"
   ]
  },
  {
   "cell_type": "markdown",
   "id": "085face1",
   "metadata": {},
   "source": [
    "Answer:\n",
    "\n",
    " '\\n' n represents a new line.\n",
    "\n",
    " '\\t' t represents a tab space\n"
   ]
  },
  {
   "cell_type": "markdown",
   "id": "24221891",
   "metadata": {},
   "source": [
    "3. What is the way to include backslash characters in a string?"
   ]
  },
  {
   "cell_type": "markdown",
   "id": "9df3367d",
   "metadata": {},
   "source": [
    "Answer:\n",
    "    The \\ escape character will represent a backslash character."
   ]
  },
  {
   "cell_type": "markdown",
   "id": "c59f47e0",
   "metadata": {},
   "source": [
    "4. The string \"Howl's Moving Castle\" is a correct value. Why isn't the single quote character in the word Howl's not escaped a problem?"
   ]
  },
  {
   "cell_type": "markdown",
   "id": "bbae9f51",
   "metadata": {},
   "source": [
    "Answer :\n",
    "    The single quote in Howl's is fine because you've used double quotes to mark the beginning and end of the string"
   ]
  },
  {
   "cell_type": "markdown",
   "id": "5a6d27e4",
   "metadata": {},
   "source": [
    "5. How do you write a string of newlines if you don't want to use the n character?"
   ]
  },
  {
   "cell_type": "markdown",
   "id": "ed2d78e9",
   "metadata": {},
   "source": [
    "Answer:\n",
    "    Multiline strings allow you to use newlines in strings without the \\n escape character"
   ]
  },
  {
   "cell_type": "markdown",
   "id": "19265a86",
   "metadata": {},
   "source": [
    "6. What are the values of the given expressions?\n",
    "'Hello, world!'[1]\n",
    "'Hello, world!'[0:5]\n",
    "'Hello, world!'[:5]\n",
    "'Hello, world!'[3:]\n"
   ]
  },
  {
   "cell_type": "code",
   "execution_count": 1,
   "id": "6682d5ee",
   "metadata": {},
   "outputs": [
    {
     "data": {
      "text/plain": [
       "'e'"
      ]
     },
     "execution_count": 1,
     "metadata": {},
     "output_type": "execute_result"
    }
   ],
   "source": [
    "'Hello, world!'[1]"
   ]
  },
  {
   "cell_type": "code",
   "execution_count": 3,
   "id": "1a4df4a4",
   "metadata": {},
   "outputs": [
    {
     "data": {
      "text/plain": [
       "'Hello'"
      ]
     },
     "execution_count": 3,
     "metadata": {},
     "output_type": "execute_result"
    }
   ],
   "source": [
    "'Hello, world!'[0:5]"
   ]
  },
  {
   "cell_type": "code",
   "execution_count": 4,
   "id": "40f34458",
   "metadata": {
    "scrolled": true
   },
   "outputs": [
    {
     "data": {
      "text/plain": [
       "'Hello'"
      ]
     },
     "execution_count": 4,
     "metadata": {},
     "output_type": "execute_result"
    }
   ],
   "source": [
    "'Hello, world!'[:5]"
   ]
  },
  {
   "cell_type": "code",
   "execution_count": 5,
   "id": "cf8f4d6e",
   "metadata": {},
   "outputs": [
    {
     "data": {
      "text/plain": [
       "'lo, world!'"
      ]
     },
     "execution_count": 5,
     "metadata": {},
     "output_type": "execute_result"
    }
   ],
   "source": [
    "'Hello, world!'[3:]"
   ]
  },
  {
   "cell_type": "markdown",
   "id": "77d9801f",
   "metadata": {},
   "source": [
    "7. What are the values of the following expressions?\n",
    "'Hello'.upper()\n",
    "'Hello'.upper().isupper()\n",
    "'Hello'.upper().lower()\n"
   ]
  },
  {
   "cell_type": "code",
   "execution_count": 6,
   "id": "048d6509",
   "metadata": {},
   "outputs": [
    {
     "data": {
      "text/plain": [
       "'HELLO'"
      ]
     },
     "execution_count": 6,
     "metadata": {},
     "output_type": "execute_result"
    }
   ],
   "source": [
    "'Hello'.upper()"
   ]
  },
  {
   "cell_type": "code",
   "execution_count": 7,
   "id": "737851dd",
   "metadata": {},
   "outputs": [
    {
     "data": {
      "text/plain": [
       "True"
      ]
     },
     "execution_count": 7,
     "metadata": {},
     "output_type": "execute_result"
    }
   ],
   "source": [
    "'Hello'.upper().isupper()"
   ]
  },
  {
   "cell_type": "code",
   "execution_count": 8,
   "id": "0de31b4e",
   "metadata": {},
   "outputs": [
    {
     "data": {
      "text/plain": [
       "'hello'"
      ]
     },
     "execution_count": 8,
     "metadata": {},
     "output_type": "execute_result"
    }
   ],
   "source": [
    "'Hello'.upper().lower()"
   ]
  },
  {
   "cell_type": "markdown",
   "id": "153e7a00",
   "metadata": {},
   "source": [
    "8. What are the values of the following expressions?\n",
    "'Remember, remember, the fifth of July.'.split()\n",
    "'-'.join('There can only one.'.split())\n"
   ]
  },
  {
   "cell_type": "code",
   "execution_count": 9,
   "id": "602cbfe9",
   "metadata": {},
   "outputs": [
    {
     "data": {
      "text/plain": [
       "['Remember,', 'remember,', 'the', 'fifth', 'of', 'July.']"
      ]
     },
     "execution_count": 9,
     "metadata": {},
     "output_type": "execute_result"
    }
   ],
   "source": [
    "'Remember, remember, the fifth of July.'.split()"
   ]
  },
  {
   "cell_type": "code",
   "execution_count": 10,
   "id": "e9bee296",
   "metadata": {},
   "outputs": [
    {
     "data": {
      "text/plain": [
       "'There-can-only-one.'"
      ]
     },
     "execution_count": 10,
     "metadata": {},
     "output_type": "execute_result"
    }
   ],
   "source": [
    "'-'.join('There can only one.'.split())"
   ]
  },
  {
   "cell_type": "markdown",
   "id": "2e0a74dc",
   "metadata": {},
   "source": [
    "9. What are the methods for right-justifying, left-justifying, and centering a string?\n",
    "\n",
    "Answer :\n",
    "\n",
    "   The rjust(), ljust(), and center() string methods, respectively"
   ]
  },
  {
   "cell_type": "markdown",
   "id": "833c9560",
   "metadata": {},
   "source": [
    "10.What is the best way to remove whitespace characters from the start or end?\n",
    "Answer :\n",
    "\n",
    "   The lstrip() and rstrip() methods remove whitespace from the left and right ends of a string, respectively."
   ]
  },
  {
   "cell_type": "code",
   "execution_count": null,
   "id": "da3f21a0",
   "metadata": {},
   "outputs": [],
   "source": []
  }
 ],
 "metadata": {
  "kernelspec": {
   "display_name": "Python 3 (ipykernel)",
   "language": "python",
   "name": "python3"
  },
  "language_info": {
   "codemirror_mode": {
    "name": "ipython",
    "version": 3
   },
   "file_extension": ".py",
   "mimetype": "text/x-python",
   "name": "python",
   "nbconvert_exporter": "python",
   "pygments_lexer": "ipython3",
   "version": "3.9.12"
  }
 },
 "nbformat": 4,
 "nbformat_minor": 5
}
