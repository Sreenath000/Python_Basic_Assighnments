{
 "cells": [
  {
   "cell_type": "markdown",
   "id": "79696b48",
   "metadata": {},
   "source": [
    "1.What is the name of the feature responsible for generating Regex objects?\n",
    "\n",
    "Answer:\n",
    "     re modulue is used for generation of regex objects.\n",
    "\n",
    "Syntax : re.compile()"
   ]
  },
  {
   "cell_type": "markdown",
   "id": "d2cc756b",
   "metadata": {},
   "source": [
    "2.Why do raw strings often appear in Regex objects?\n",
    "\n",
    "Answer:\n",
    "      Raw strings are used for then backslash doesn't have any any scope from escaping."
   ]
  },
  {
   "cell_type": "markdown",
   "id": "7934bd5e",
   "metadata": {},
   "source": [
    "3.What is the return value of the search() method?\n",
    "\n",
    "Answer:\n",
    "search() function returns match objects and returns match objects else it reurns none."
   ]
  },
  {
   "cell_type": "markdown",
   "id": "84cb3d41",
   "metadata": {},
   "source": [
    "4.From a Match item, how do you get the actual strings that match the pattern?\n",
    "\n",
    "Answer:\n",
    "  The group() method retruns the strings of the matched text."
   ]
  },
  {
   "cell_type": "markdown",
   "id": "42d2d2f7",
   "metadata": {},
   "source": [
    "5.In the regex which created from the r'(\\d\\d\\d)-(\\d\\d\\d-\\d\\d\\d\\d)', what does group zero cover? Group 2? Group 1?\n",
    "\n",
    "Answer:\n",
    "    Group 0 covers entire part.\n",
    "\n",
    "    Group 1 covers the first set of parenthesis.\n",
    "\n",
    "    Group 2 covers the second set of parenthesis."
   ]
  },
  {
   "cell_type": "markdown",
   "id": "72f3a5fe",
   "metadata": {},
   "source": [
    "6.In standard expression syntax, parentheses and intervals have distinct meanings. How can you tell a regex that you want it to fit real parentheses and periods?\n",
    "\n",
    "Answer:\n",
    "Periods and Parenthesis can be escaped with a backslash \\., \\(, and \\).\n",
    "\n",
    "\n",
    "7.The findall() method returns a string list or a list of string tuples. What causes it to return one of the two options?\n",
    "\n",
    "Answer:\n",
    "   If the regex has no groups, a list of strings is returned. If the regex has groups, a list of tuples of \n",
    "   strings is returned.\n",
    "    \n",
    "    \n",
    "8.In standard expressions, what does the | character mean?\n",
    "\n",
    "Answer:\n",
    "   In standard expressions, | means or Operator.\n",
    "\n",
    "\n",
    "9.In regular expressions, what does the character stand for?\n",
    "\n",
    "Answer:\n",
    " The ? character can either mean \"match zero or one of the preceding group\" or be used to signify nongreedy             matching."
   ]
  },
  {
   "cell_type": "markdown",
   "id": "06b554bd",
   "metadata": {},
   "source": [
    "10.In regular expressions, what is the difference between the + and * characters?\n",
    "\n",
    "Answer:\n",
    "   The + matches one or more. The * matches zero or more.\n",
    "\n",
    "\n",
    "11.What is the difference between {4} and {4,5} in regular expression?\n",
    "\n",
    "Answer:\n",
    "  The {4} matches exactly four instances of the preceeding group.\n",
    "\n",
    "  The {4,5} matches between four and five instances.\n",
    "    \n",
    "    \n",
    "12.What do you mean by the \\d, \\w, and \\s shorthand character classes signify in regular expressions?\n",
    "\n",
    "Answer:\n",
    "  The \\d, \\w, and \\s shorthand character classes match a single digit, word, or space character, respectively.\n",
    "\n",
    "\n",
    "13.What do means by \\D, \\W, and \\S shorthand character classes signify in regular expressions?\n",
    "\n",
    "Answer:\n",
    "    The \\D, \\W, and \\S shorthand character classes match a single character that is not a digit, word, or space character, respectively\n",
    "    \n",
    "    .\n",
    "14. What is the difference between .*? and .*?\n",
    "\n",
    "Answer:\n",
    "   *? adds ?, a quantifier that matches the preceding element (the \".*\" here) 0 or 1 times.\n",
    "\n",
    "   * adds *, a quantifier that matches the preceding element (the \".\" here) 0 or more times."
   ]
  },
  {
   "cell_type": "markdown",
   "id": "a647ec49",
   "metadata": {},
   "source": [
    "15. What is the syntax for matching both numbers and lowercase letters with a character class?"
   ]
  },
  {
   "cell_type": "code",
   "execution_count": 3,
   "id": "6d5e12d3",
   "metadata": {},
   "outputs": [
    {
     "name": "stdout",
     "output_type": "stream",
     "text": [
      "matched\n"
     ]
    }
   ],
   "source": [
    "import re\n",
    "def match(text):\n",
    "    pattern = '^[a-z0-9]*$'\n",
    "    if re.search(pattern,text):\n",
    "        return \"matched\"\n",
    "    else:\n",
    "        return\"not matched\"\n",
    "print(match(\"sree0001\"))"
   ]
  },
  {
   "cell_type": "markdown",
   "id": "7d131293",
   "metadata": {},
   "source": [
    "16.What is the procedure for making a normal expression in regax case insensitive?\n",
    "\n",
    "Answer:\n",
    "  use re.IGNORECASE to search, match, or sub\n",
    "\n",
    "\n",
    "17.What does the . character normally match? What does it match if re.DOTALL is passed as 2nd argument in re.compile()?\n",
    "Answer:\n",
    "    dot character matches everything in input except newline character\n",
    "    By passing re. DOTALL as the second argument to re. compile() , you can make the dot character match all characters,including the newline character.\n",
    "    \n",
    "    \n",
    "18.If numReg = re.compile(r'\\d+'), what will numRegex.sub('X', '11 drummers, 10 pipers, five rings, 4 hen') return?\n",
    "\n",
    "Answer:\n",
    "     'X drummers, X pipers, five rings, X hens'\n",
    "     \n",
    "     \n",
    "19.What does passing re.VERBOSE as the 2nd argument to re.compile() allow to do?\n",
    "\n",
    "Answer:\n",
    "     it will allow to add whitespace and comments to string passed to re.compile()."
   ]
  },
  {
   "cell_type": "markdown",
   "id": "79b84b4a",
   "metadata": {},
   "source": [
    "20.How would you write a regex that match a number with comma for every three digits? It must match the given following:\n",
    "'42'\n",
    "\n",
    "'1,234'\n",
    "\n",
    "'6,368,745'\n",
    "\n",
    "but not the following:\n",
    "\n",
    "'12,34,567' (which has only two digits between the commas)\n",
    "\n",
    "'1234' (which lacks commas)\n",
    "\n",
    "\n",
    "Answer:\n",
    "      re.compile(r'^\\d{1,3}(,\\d{3})*$')\n",
    "        \n",
    "        \n",
    "21.How would you write a regex that matches the full name of someone whose last name is Watanabe? You can assume that the first name that comes before it will always be one word that begins with a capital letter. The regex must match the following:\n",
    "'Haruto Watanabe'\n",
    "\n",
    "'Alice Watanabe'\n",
    "\n",
    "'RoboCop Watanabe'\n",
    "\n",
    "but not the following:\n",
    "\n",
    "'haruto Watanabe' (where the first name is not capitalized)\n",
    "\n",
    "'Mr. Watanabe' (where the preceding word has a nonletter character)\n",
    "\n",
    "'Watanabe' (which has no first name)\n",
    "\n",
    "'Haruto watanabe' (where Watanabe is not capitalized)"
   ]
  },
  {
   "cell_type": "code",
   "execution_count": 4,
   "id": "f924543f",
   "metadata": {},
   "outputs": [
    {
     "data": {
      "text/plain": [
       "re.compile(r'[A-Z][a-z]*\\sNakamoto', re.UNICODE)"
      ]
     },
     "execution_count": 4,
     "metadata": {},
     "output_type": "execute_result"
    }
   ],
   "source": [
    "re.compile(r'[A-Z][a-z]*\\sNakamoto')"
   ]
  },
  {
   "cell_type": "markdown",
   "id": "ced6a6d0",
   "metadata": {},
   "source": [
    "22.How would you write a regex that matches a sentence where the first word is either Alice, Bob, or Carol; the second word is either eats, pets, or throws; the third word is apples, cats, or baseballs; and the sentence ends with a period? This regex should be case-insensitive. It must match the following:\n",
    "'Alice eats apples.'\n",
    "\n",
    "'Bob pets cats.'\n",
    "\n",
    "'Carol throws baseballs.'\n",
    "\n",
    "'Alice throws Apples.'\n",
    "\n",
    "'BOB EATS CATS.'\n",
    "\n",
    "but not the following:\n",
    "\n",
    "'RoboCop eats apples.'\n",
    "\n",
    "'ALICE THROWS FOOTBALLS.'\n",
    "\n",
    "'Carol eats 7 cats.'"
   ]
  },
  {
   "cell_type": "code",
   "execution_count": null,
   "id": "a4f48648",
   "metadata": {},
   "outputs": [],
   "source": []
  }
 ],
 "metadata": {
  "kernelspec": {
   "display_name": "Python 3 (ipykernel)",
   "language": "python",
   "name": "python3"
  },
  "language_info": {
   "codemirror_mode": {
    "name": "ipython",
    "version": 3
   },
   "file_extension": ".py",
   "mimetype": "text/x-python",
   "name": "python",
   "nbconvert_exporter": "python",
   "pygments_lexer": "ipython3",
   "version": "3.9.12"
  }
 },
 "nbformat": 4,
 "nbformat_minor": 5
}
