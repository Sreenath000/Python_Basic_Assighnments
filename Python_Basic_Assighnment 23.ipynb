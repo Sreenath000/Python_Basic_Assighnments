{
 "cells": [
  {
   "cell_type": "markdown",
   "id": "46d29874",
   "metadata": {},
   "source": [
    "  WHAT IS RESULT OF BELOW CODE,AND EXPLAIN"
   ]
  },
  {
   "cell_type": "code",
   "execution_count": 3,
   "id": "3a76c678",
   "metadata": {},
   "outputs": [
    {
     "name": "stdout",
     "output_type": "stream",
     "text": [
      "1 2 8\n"
     ]
    }
   ],
   "source": [
    "def func(a,b=6,c=8):\n",
    "    print(a,b,c)\n",
    "func(1,2)"
   ]
  },
  {
   "cell_type": "markdown",
   "id": "f4a5092d",
   "metadata": {},
   "source": [
    "Answer :\n",
    "\n",
    " The result for the above code is 1,2,8 because we called the function by passing only two arguments but the \n",
    " function has three arguemnts by default it uses the c values declared while creating a function"
   ]
  },
  {
   "cell_type": "code",
   "execution_count": 4,
   "id": "5b9b07e5",
   "metadata": {},
   "outputs": [
    {
     "name": "stdout",
     "output_type": "stream",
     "text": [
      "1 2 3\n"
     ]
    }
   ],
   "source": [
    "def func(a,b,c=5):\n",
    "    print(a,b,c)\n",
    "func(1,c=3,b=2)"
   ]
  },
  {
   "cell_type": "markdown",
   "id": "5ba9dea0",
   "metadata": {},
   "source": [
    "Answer :\n",
    "\n",
    " The result of the above code is 1 2 3. it is because the function will use default values only when a \n",
    " value for a argument is not provided and if argument name is mentioned while doing a function call, the order \n",
    " of arguments is also ignored by the python interpreter"
   ]
  },
  {
   "cell_type": "code",
   "execution_count": 5,
   "id": "b1296f41",
   "metadata": {},
   "outputs": [
    {
     "name": "stdout",
     "output_type": "stream",
     "text": [
      "1 (2, 3)\n"
     ]
    }
   ],
   "source": [
    "def func(a,*pargs):\n",
    "    print(a,pargs)\n",
    "func(1,2,3)"
   ]
  },
  {
   "cell_type": "markdown",
   "id": "0e8e62d1",
   "metadata": {},
   "source": [
    "Answer :\n",
    "\n",
    "  The result of the code is 1 (2,3). *pargs stands for variable length arguments. This format is used when we \n",
    "  are not sure about the no of arguments to be passed to a function, all the values under this argument will \n",
    "  be stored in a tuple."
   ]
  },
  {
   "cell_type": "code",
   "execution_count": 6,
   "id": "20c23858",
   "metadata": {},
   "outputs": [
    {
     "name": "stdout",
     "output_type": "stream",
     "text": [
      "1 {'c': 3, 'b': 2}\n"
     ]
    }
   ],
   "source": [
    "def func(a,**kargs):\n",
    "    print(a,kargs)\n",
    "func(a=1,c=3,b=2)"
   ]
  },
  {
   "cell_type": "markdown",
   "id": "117e5a3f",
   "metadata": {},
   "source": [
    "Answer :\n",
    "\n",
    "   The result of the above code is 1 {'c': 3, 'b': 2}. **args stands for variable length keyword arguments. \n",
    "   This format is used when we want pass key value pairs as input to a function. All these key value pairs will \n",
    "   be stored in a dictionary"
   ]
  },
  {
   "cell_type": "code",
   "execution_count": 7,
   "id": "9330acc5",
   "metadata": {},
   "outputs": [
    {
     "name": "stdout",
     "output_type": "stream",
     "text": [
      "1 5 6 5\n"
     ]
    }
   ],
   "source": [
    "def func(a,b,c=8,d=5):\n",
    "    print(a,b,c,d)\n",
    "func(1,*(5,6))"
   ]
  },
  {
   "cell_type": "markdown",
   "id": "ed176c2f",
   "metadata": {},
   "source": [
    "Answer :\n",
    "\n",
    "   The output of the above code  is 1 5 6 5. The  function not throws an error  because, this function expects\n",
    "   4 arguments. the value for a is provided explicitly whereas for arguments b and c, the function will expand \n",
    "   the *(5,6) and consider the value of b as 5 and value of c as 6. since the default value of d is provided \n",
    "   in function declaration d value will be 5. However it is recommended to use the feature of positional \n",
    "   arguments at the end."
   ]
  },
  {
   "cell_type": "code",
   "execution_count": 8,
   "id": "5639d2cd",
   "metadata": {},
   "outputs": [
    {
     "data": {
      "text/plain": [
       "(1, ['x'], {'a': 'y'})"
      ]
     },
     "execution_count": 8,
     "metadata": {},
     "output_type": "execute_result"
    }
   ],
   "source": [
    "def func(a, b, c): a = 2; b[0] = 'x'; c['a'] = 'y'\n",
    "l=1; m=[1]; n={'a':0}\n",
    "func(l, m, n)\n",
    "l,m,n"
   ]
  },
  {
   "cell_type": "markdown",
   "id": "7a9e7c2a",
   "metadata": {},
   "source": [
    "Answer:\n",
    "    The output of above code is 1, ['x'], {'a': 'y'}.\n",
    "\n",
    "Eventhough Python gives importance to indentation. its provides a facility to declare an entire function in one single line. where statements in a function body are sepereated by ; When l,m,n are provided as inputs to the function. its modifies the values of l,m,n and sets the value of l=2 ,m=['x'] and n={'a':'y'}"
   ]
  },
  {
   "cell_type": "code",
   "execution_count": null,
   "id": "dd7e9dcf",
   "metadata": {},
   "outputs": [],
   "source": []
  }
 ],
 "metadata": {
  "kernelspec": {
   "display_name": "Python 3 (ipykernel)",
   "language": "python",
   "name": "python3"
  },
  "language_info": {
   "codemirror_mode": {
    "name": "ipython",
    "version": 3
   },
   "file_extension": ".py",
   "mimetype": "text/x-python",
   "name": "python",
   "nbconvert_exporter": "python",
   "pygments_lexer": "ipython3",
   "version": "3.9.12"
  }
 },
 "nbformat": 4,
 "nbformat_minor": 5
}
